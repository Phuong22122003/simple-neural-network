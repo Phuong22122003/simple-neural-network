{
 "cells": [
  {
   "cell_type": "code",
   "execution_count": null,
   "id": "f85d7adc",
   "metadata": {},
   "outputs": [],
   "source": [
    "from layers import Dense\n",
    "from models import Model\n",
    "class MyModel(Model):\n",
    "    def __init__(self):\n",
    "        super().__init__()\n",
    "        self.layer1 = Dense(128,'relu')\n",
    "        self.layer2 = Dense(10,'softmax')\n",
    "    def call(self, inputs):\n",
    "        x = self.layer1(inputs)\n",
    "        x = self.layer2(x)\n",
    "        return x\n",
    "    "
   ]
  },
  {
   "cell_type": "code",
   "execution_count": 2,
   "id": "975c8635",
   "metadata": {},
   "outputs": [],
   "source": [
    "import numpy as np\n",
    "import tensorflow as tf\n",
    "from tensorflow.keras.datasets import mnist\n",
    "(X_train, y_train), (X_test, y_test) = mnist.load_data()\n",
    "\n",
    "X_train = X_train.reshape(-1, np.prod(X_train.shape[1:])) / 255.0  # Normalize, shape (60000, 784)\n",
    "X_test = X_test.reshape(-1, np.prod(X_test.shape[1:])) / 255.0    # Normalize, shape (10000, 784)\n",
    "y_train = np.squeeze(y_train)\n",
    "y_test = np.squeeze(y_test)\n",
    "\n",
    "Y_train_one_hot = np.eye(10)[y_train]  # Shape (60000, 10)\n",
    "Y_test_one_hot = np.eye(10)[y_test]    # Shape (10000, 10)\n"
   ]
  },
  {
   "cell_type": "code",
   "execution_count": 14,
   "id": "d98c3df6",
   "metadata": {},
   "outputs": [
    {
     "name": "stdout",
     "output_type": "stream",
     "text": [
      "Epoch: 1/2 ==========================> 1875/1875 steps. loss 2.928376873255338\n",
      "Epoch: 2/2 ==========================> 1875/1875 steps. loss 0.024144834861101694\n"
     ]
    }
   ],
   "source": [
    "model = MyModel()\n",
    "model.fit(X_train, Y_train_one_hot,epochs=2,learning_rate=1e-4)"
   ]
  },
  {
   "cell_type": "code",
   "execution_count": 4,
   "id": "bd033fe7",
   "metadata": {},
   "outputs": [
    {
     "data": {
      "text/plain": [
       "(10000, 784)"
      ]
     },
     "execution_count": 4,
     "metadata": {},
     "output_type": "execute_result"
    }
   ],
   "source": [
    "X_test.shape"
   ]
  },
  {
   "cell_type": "code",
   "execution_count": 15,
   "id": "6de13dc8",
   "metadata": {},
   "outputs": [],
   "source": [
    "x = model(X_test)\n",
    "# np.argmax(x, axis=1)  \n"
   ]
  },
  {
   "cell_type": "code",
   "execution_count": 16,
   "id": "b511d6a2",
   "metadata": {},
   "outputs": [
    {
     "data": {
      "text/plain": [
       "(array([7, 2, 2, 8, 8, 1, 3, 9, 8, 9, 0, 3, 9, 9, 1, 0, 9, 7, 2, 9, 9, 8,\n",
       "        3, 9, 8, 0, 9, 8, 8, 9, 9, 3, 9, 5, 9, 8, 9, 9, 2, 1, 1, 9, 9, 9,\n",
       "        8, 9, 8, 9, 9, 4, 9, 2, 9, 3, 2, 9, 8, 1, 4, 4, 9, 8, 8, 8, 9, 3,\n",
       "        7, 9, 8, 9, 7, 0, 8, 9, 1, 4, 7, 9, 9, 9, 9, 8, 9, 9, 9, 3, 9, 5,\n",
       "        9, 1, 0, 4, 9, 9, 8, 4, 9, 4, 8, 4]),\n",
       " array([7, 2, 1, 0, 4, 1, 4, 9, 5, 9, 0, 6, 9, 0, 1, 5, 9, 7, 3, 4, 9, 6,\n",
       "        6, 5, 4, 0, 7, 4, 0, 1, 3, 1, 3, 4, 7, 2, 7, 1, 2, 1, 1, 7, 4, 2,\n",
       "        3, 5, 1, 2, 4, 4, 6, 3, 5, 5, 6, 0, 4, 1, 9, 5, 7, 8, 9, 3, 7, 4,\n",
       "        6, 4, 3, 0, 7, 0, 2, 9, 1, 7, 3, 2, 9, 7, 7, 6, 2, 7, 8, 4, 7, 3,\n",
       "        6, 1, 3, 6, 9, 3, 1, 4, 1, 7, 6, 9], dtype=uint8))"
      ]
     },
     "execution_count": 16,
     "metadata": {},
     "output_type": "execute_result"
    }
   ],
   "source": [
    "x.shape\n",
    "np.argmax(x, axis=1)[:100],y_test[:100]"
   ]
  }
 ],
 "metadata": {
  "kernelspec": {
   "display_name": "Python 3",
   "language": "python",
   "name": "python3"
  },
  "language_info": {
   "codemirror_mode": {
    "name": "ipython",
    "version": 3
   },
   "file_extension": ".py",
   "mimetype": "text/x-python",
   "name": "python",
   "nbconvert_exporter": "python",
   "pygments_lexer": "ipython3",
   "version": "3.12.9"
  }
 },
 "nbformat": 4,
 "nbformat_minor": 5
}
