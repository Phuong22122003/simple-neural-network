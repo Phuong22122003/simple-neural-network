{
 "cells": [
  {
   "cell_type": "code",
   "execution_count": null,
   "id": "f85d7adc",
   "metadata": {},
   "outputs": [],
   "source": [
    "from layers import Dense\n",
    "from models import Model, Sequential\n",
    "class MyModel(Model):\n",
    "    def __init__(self):\n",
    "        super().__init__()\n",
    "        self.layer1 = Dense(128,'relu')\n",
    "        self.layer2 = Dense(10,'softmax')\n",
    "    def call(self, inputs):\n",
    "        x = self.layer1(inputs)\n",
    "        x = self.layer2(x)\n",
    "        return x\n",
    "    def _all_layer(self):\n",
    "        return [\n",
    "            self.layer1,\n",
    "            self.layer2,\n",
    "        ]\n",
    "        "
   ]
  },
  {
   "cell_type": "code",
   "execution_count": null,
   "id": "975c8635",
   "metadata": {},
   "outputs": [],
   "source": [
    "import numpy as np\n",
    "import tensorflow as tf\n",
    "from tensorflow.keras.datasets import mnist\n",
    "(X_train, y_train), (X_test, y_test) = mnist.load_data()\n",
    "\n",
    "X_train = X_train.reshape(-1, np.prod(X_train.shape[1:])) / 255.0  # Normalize, shape (60000, 784)\n",
    "X_test = X_test.reshape(-1, np.prod(X_test.shape[1:])) / 255.0    # Normalize, shape (10000, 784)\n",
    "y_train = np.squeeze(y_train)\n",
    "y_test = np.squeeze(y_test)\n",
    "\n",
    "Y_train_one_hot = np.eye(10)[y_train]  # Shape (60000, 10)\n",
    "Y_test_one_hot = np.eye(10)[y_test]    # Shape (10000, 10)\n"
   ]
  },
  {
   "cell_type": "code",
   "execution_count": null,
   "id": "d98c3df6",
   "metadata": {},
   "outputs": [],
   "source": [
    "# model = MyModel()\n",
    "model = Sequential([\n",
    "    Dense(300,'relu'),\n",
    "    Dense(10,'softmax')\n",
    "])\n",
    "model.fit(X_train, Y_train_one_hot,epochs=2,learning_rate=1e-1)"
   ]
  },
  {
   "cell_type": "code",
   "execution_count": null,
   "id": "bd033fe7",
   "metadata": {},
   "outputs": [],
   "source": [
    "X_test.shape"
   ]
  },
  {
   "cell_type": "code",
   "execution_count": null,
   "id": "6de13dc8",
   "metadata": {},
   "outputs": [],
   "source": [
    "x = model(X_test)\n",
    "# np.argmax(x, axis=1)  "
   ]
  },
  {
   "cell_type": "code",
   "execution_count": null,
   "id": "b511d6a2",
   "metadata": {},
   "outputs": [],
   "source": [
    "np.argmax(x, axis=1)[:100],y_test[:100]"
   ]
  }
 ],
 "metadata": {
  "kernelspec": {
   "display_name": "Python 3",
   "language": "python",
   "name": "python3"
  },
  "language_info": {
   "codemirror_mode": {
    "name": "ipython",
    "version": 3
   },
   "file_extension": ".py",
   "mimetype": "text/x-python",
   "name": "python",
   "nbconvert_exporter": "python",
   "pygments_lexer": "ipython3",
   "version": "3.12.9"
  }
 },
 "nbformat": 4,
 "nbformat_minor": 5
}
