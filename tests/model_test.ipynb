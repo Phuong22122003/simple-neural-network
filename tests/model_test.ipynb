{
 "cells": [
  {
   "cell_type": "code",
   "execution_count": null,
   "id": "fb2af11e",
   "metadata": {},
   "outputs": [],
   "source": [
    "import sys\n",
    "sys.path.append(r'D:\\Workspace\\Python\\Project\\NeuralNetwork')"
   ]
  },
  {
   "cell_type": "code",
   "execution_count": 19,
   "id": "9a6a0a3e",
   "metadata": {},
   "outputs": [],
   "source": [
    "class Model:\n",
    "    def __init__(self):\n",
    "        pass\n",
    "    def forward(self):\n",
    "        raise NotImplementedError()\n",
    "    def backward(self):\n",
    "        self.all_layer()\n",
    "    def all_layer(self):\n",
    "        layers = []\n",
    "        for attr in self.__dict__.values():\n",
    "            print(attr)"
   ]
  },
  {
   "cell_type": "code",
   "execution_count": 21,
   "id": "5a55d22f",
   "metadata": {},
   "outputs": [],
   "source": [
    "from layers import Dense\n",
    "class MyModel(Model):\n",
    "    def __init__(self):\n",
    "        super().__init__()\n",
    "        self.layer1 = [1,2,3]\n",
    "        self.layer2 = 5\n",
    "        self.layer3 = Dense(10,'relu')\n",
    "    def forward(self):\n",
    "        print('a')\n",
    "        return \n",
    "    "
   ]
  },
  {
   "cell_type": "code",
   "execution_count": 22,
   "id": "0ae7ee3f",
   "metadata": {},
   "outputs": [],
   "source": [
    "a = MyModel()\n",
    "a.backward()"
   ]
  }
 ],
 "metadata": {
  "kernelspec": {
   "display_name": "Python 3",
   "language": "python",
   "name": "python3"
  },
  "language_info": {
   "codemirror_mode": {
    "name": "ipython",
    "version": 3
   },
   "file_extension": ".py",
   "mimetype": "text/x-python",
   "name": "python",
   "nbconvert_exporter": "python",
   "pygments_lexer": "ipython3",
   "version": "3.12.9"
  }
 },
 "nbformat": 4,
 "nbformat_minor": 5
}
